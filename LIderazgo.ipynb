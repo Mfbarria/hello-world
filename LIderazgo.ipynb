{
  "nbformat": 4,
  "nbformat_minor": 0,
  "metadata": {
    "colab": {
      "name": "LIderazgo.ipynb",
      "provenance": [],
      "authorship_tag": "ABX9TyO9X+Q0HRoRvnimefz+Lx1m",
      "include_colab_link": true
    },
    "kernelspec": {
      "name": "python3",
      "display_name": "Python 3"
    },
    "language_info": {
      "name": "python"
    }
  },
  "cells": [
    {
      "cell_type": "markdown",
      "metadata": {
        "id": "view-in-github",
        "colab_type": "text"
      },
      "source": [
        "<a href=\"https://colab.research.google.com/github/Mfbarria/hello-world/blob/main/LIderazgo.ipynb\" target=\"_parent\"><img src=\"https://colab.research.google.com/assets/colab-badge.svg\" alt=\"Open In Colab\"/></a>"
      ]
    },
    {
      "cell_type": "code",
      "execution_count": null,
      "metadata": {
        "id": "fdRF9dHkN24P"
      },
      "outputs": [],
      "source": [
        ""
      ]
    },
    {
      "cell_type": "markdown",
      "source": [
        "#Notas sobre Liderazgo \n",
        "\n",
        "Para poder entender qué es el **liderazgo**, revisemos que nos indica la **RAE**, se entiende como liderazgo a una condición de **líder** o al ejercicio de las actividades de **líder**. Ahora bien, para comprender qué es ser **Líder**, primero debemos entender qué se conoce como líder dentro de una organización. Muchas veces pensamos que un líder es aquél que tiene un puesto o un cargo en la organización, y debido a esto ejerce su liderazgo ocupando el puesto, algunas veces este líder es realmente un líder y en muchas otras simplemente es una persona con un cargo superior.\n",
        "\n",
        "Dentro de los liderazgos de las organizaciones, nos encontramos con aquéllos que son **líderes innatos**, que corresponde a las personas que no tienen un cargo formal de líder y cumplen roles de líderes en sus equipos; este tipo de liderazgo se puede dar en cualquier ámbito, desde un colegio, en donde en un curso haya un niño que es líder innato y existe un conjunto de niños que lo sigue o, por ejemplo, grandes líderes como Nelson Mandela o Barack Obama, en donde un mundo completo sigue sus ideas. \n",
        "\n",
        "De acuerdo a la litaratura, podemos encontrar diversos **tipos de liderazgos**, desde *laissez faire* a *autoritarios*, pero al momento de exponer sobre el liderazgo, en lo personal, prefiero hablar de aquellos líderes que son **positivos o negativos**\n",
        "\n",
        "En mi caso personal, trato siempre de ser positiva, ya que cuando se enseña algo a otra persona, queda ese tipo de enseñanza y debes ser capaz de incentivar y apoyar al otro para que sea mejor día a día. En cambio los **líderes negativos** se visten de \"oveja\" y luego dan a conocer su verdadera cara donde generalmente, ellos buscan destacarse en forma individual, ocultando el trabajo del equipo.\n",
        "\n",
        "Además, de las cualidades descritas en este artículo, hay otras que todo lider debe tener, como guiar a su equipo, y lo más importante, según mi punto de vista, tener la capacidad de ver más allá del horizonte. Esta capacidad es tener la intuición sobre las cosas que pasan y pasarán y saber cuáles son las acciones que éste debe tomar para que, en conjunto con su equipo, puedan sortearlas de la mejor forma posible. Considerando siempre que todo acto o decisión tendrá una consecuencia, ya sea positiva o negativa de las cuales el líder y su equipo deben obtener aprendizajes.\n",
        "\n",
        "En mi opinión, el líder debe **pensar en positivo**, en un comienzo cuesta, porque las circunstancias no son favorables para esta clase de pensamientos, pero es ahí donde el líder debe tener la *habilidad* de llevar a su equipo hacia el lado de lo positivo, de buscar las formas de dar solución a los desafíos planteados y que esta búsqueda sea a través del trabajo en equipo y la co-creación. Aquí es clave el rol del líder para habilitar esta atmósfera de inspiración y autonomía en su equipo.\n",
        "\n",
        "El líder, en mi opinión, debe ser capaz de proyectar más allá de lo establecido en la visión, es decir, debe tener la capacidad de acompañar a sus seguidores en los momentos claves; además, de tener la habilidad de aceptar las opiniones de todos los integrantes del grupo que lidera, porque es importante que cuente con la capacidad de **escuchar activamente** a todos los integrantes, y poder tomar las mejores ideas para plasmarlas en herramientas o procesos que esté trabajando con su equipo. \n",
        "\n",
        "También, el líder dirige y orienta a las personas, para que éstas consigan los objetivos que se han planteado, y si existe algún momento en donde se pierda el rumbo, este guía ayudará a su equipo retomar la ruta trazada, para que sigan buscando sus objetivos. También, debe saber cuáles son las ideas que surjen del equipo en ese momento, para ver cuáles son las mejores posibles soluciones a los desafíos planteados. \n",
        "\n",
        "\n",
        "\n",
        "\n",
        "\n"
      ],
      "metadata": {
        "id": "2YQs3r1EOGA1"
      }
    },
    {
      "cell_type": "markdown",
      "source": [
        "#Comunicación en el liderazgo\n",
        "\n",
        "Dentro de este artículo se habla, someramente, de la **escucha activa**; esta habilidad es clave para que exista un **líder exitoso**, ya que según mi punto de vista, es el secreto para que sus equipos tengan la confianza en el líder. \n",
        "\n",
        "Está demostrado que una buena conversación, en donde exista esta forma de escuchar, eleva el entendimiento de lo que se requiere, y la productividad sube a niveles superiores.  "
      ],
      "metadata": {
        "id": "XDwulDsCnWaS"
      }
    }
  ]
}